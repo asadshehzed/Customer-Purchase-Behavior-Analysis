{
 "cells": [
  {
   "cell_type": "code",
   "execution_count": null,
   "id": "746ea4d1-03da-4dcd-a3bb-1817b7b3171d",
   "metadata": {},
   "outputs": [],
   "source": [
    "#importing libraries\n",
    "import numpy as np\n",
    "import pandas as pd\n",
    "import matplotlib.pyplot as plt\n",
    "import seaborn as sns\n",
    "#reading dataset\n",
    "df=pd.read_csv(r\"C:\\Users\\Asad Shahzad\\Desktop\\Assignment\\Statistics-and-Trends-Assignment---Applied-Data-Science-1\\Electronic_sales_Sep2023-Sep2024.csv\")\n",
    "\n",
    "#previewing data\n",
    "df.info()\n",
    "df.describe()"
   ]
  },
  {
   "cell_type": "code",
   "execution_count": null,
   "id": "a65ed951-e3cd-4d51-8510-f5175e8ed32a",
   "metadata": {},
   "outputs": [],
   "source": [
    "# Checking total number of customers\n",
    "distinct_count = df['Customer ID'].nunique()\n",
    "print(\"Total number of distinct values:\", distinct_count)"
   ]
  },
  {
   "cell_type": "code",
   "execution_count": null,
   "id": "28774ad4-85eb-43af-9d27-dbdbb78fd0d6",
   "metadata": {},
   "outputs": [],
   "source": [
    "#checking for missing values\n",
    "df.isnull().sum()"
   ]
  },
  {
   "cell_type": "code",
   "execution_count": null,
   "id": "7dcaef14-628d-4906-b268-6c2eae6eb3e9",
   "metadata": {},
   "outputs": [],
   "source": [
    "#filling the 1 missing gender value with the mode for Genders\n",
    "df['Gender'] = df['Gender'].fillna(df['Gender'].mode()[0])\n",
    "df.isnull().sum()"
   ]
  },
  {
   "cell_type": "code",
   "execution_count": null,
   "id": "ddef6305-fdaf-4aba-a01a-84fd0ead78cd",
   "metadata": {},
   "outputs": [],
   "source": [
    "df_encoded = df.copy()\n",
    "\n",
    "\n",
    "#################\n",
    "\n",
    "df_encoded = df.copy()\n",
    "\n",
    "# Mapping for encoding\n",
    "gender_mapping = {'Male': 1, 'Female': 0}\n",
    "loyalty_member_mapping = {'Yes': 1, 'No': 0}\n",
    "product_type_mapping = {\n",
    "    'Smartphone': 1,\n",
    "    'Tablet': 2,\n",
    "    'Laptop': 3,\n",
    "    'Smartwatch': 4,\n",
    "    'Headphones': 5\n",
    "}\n",
    "SKU_mapping = {\n",
    "    'SKU1004': 1,  # smartphone\n",
    "    'SKU1002': 2,  # tablet\n",
    "    'SKU1005': 3,  # laptop\n",
    "    'SKU1003': 4,  # smartwatch\n",
    "    'HDP456': 5,  # Headphones\n",
    "}\n",
    "order_status_mapping = {'Completed': 1, 'Cancelled': 0}\n",
    "payment_method_mapping = {\n",
    "    'Credit Card': 1,\n",
    "    'Debit Card': 2,\n",
    "    'Cash': 3,\n",
    "    'Paypal': 4,\n",
    "    'Bank Transfer': 5\n",
    "}\n",
    "shipping_type_mapping = {\n",
    "    'Standard': 1,\n",
    "    'Express': 2,\n",
    "    'Overnight': 3,\n",
    "    'Same Day': 4,\n",
    "    'Expedited': 5\n",
    "}\n",
    "add_ons_mapping = {\n",
    "    'Accessory': 1,\n",
    "    'Impulse Item': 2,\n",
    "    'Extended Warranty': 3\n",
    "}\n",
    "\n",
    "# Apply mapping to the copied DataFrame\n",
    "df_encoded['Gender'] = df_encoded['Gender'].map(gender_mapping)\n",
    "df_encoded['Loyalty Member'] = df_encoded['Loyalty Member'].map(loyalty_member_mapping)\n",
    "df_encoded['Product Type'] = df_encoded['Product Type'].map(product_type_mapping)\n",
    "#df_encoded['SKU'] = df_encoded['SKU'].map(SKU_mapping)\n",
    "df_encoded['Order Status'] = df_encoded['Order Status'].map(order_status_mapping)\n",
    "df_encoded['Payment Method'] = df_encoded['Payment Method'].map(payment_method_mapping)\n",
    "df_encoded['Shipping Type'] = df_encoded['Shipping Type'].map(shipping_type_mapping)\n",
    "#df_encoded['Add-ons Purchased'] = df_encoded['Add-ons Purchased'].map(add_ons_mapping)\n",
    "#df_encoded['Purchase Date'] = pd.to_datetime(df_encoded['Purchase Date'], format='%m/%d/%Y')\n",
    "df_encoded['Purchase Date'] = pd.to_datetime(df_encoded['Purchase Date'], errors='coerce')\n",
    "#########\n",
    "\n",
    "print(df_encoded)\n"
   ]
  },
  {
   "cell_type": "code",
   "execution_count": null,
   "id": "ff153e82-5cf0-4f3a-8edd-39d47f684ba1",
   "metadata": {},
   "outputs": [],
   "source": [
    "dfc1=df_encoded.drop('SKU', axis=1)\n",
    "dfc1=dfc1.drop('Purchase Date', axis=1)\n",
    "dfc1=dfc1.drop('Add-ons Purchased', axis=1)\n",
    "plt.figure(figsize=(10, 10))  # Adjusted figure size\n",
    "sns.heatmap(dfc1, annot=True, fmt=\".2f\", cmap='coolwarm', square=True, cbar_kws={\"shrink\": .8})\n",
    "plt.title('Correlation Matrix Heatmap', fontsize=14)\n",
    "plt.tight_layout()\n",
    "plt.show()"
   ]
  },
  {
   "cell_type": "code",
   "execution_count": null,
   "id": "37e7b0cc-61a6-4d13-b5f5-6df8337315ff",
   "metadata": {},
   "outputs": [],
   "source": [
    "#Creating a Function for Scatter Plot\n",
    "def scatter_plot(x, y, title=\"Scatter Plot\", x_label=\"X-axis\", y_label=\"Y-axis\"):\n",
    "    \"\"\"\n",
    "    Returns a scatter plot with parameters for data for x & y axis, also labels & titles that can be customized\n",
    "    \"\"\"\n",
    "    plt.scatter(x, y)\n",
    "    plt.title(title)\n",
    "    plt.xlabel(x_label)\n",
    "    plt.ylabel(y_label)\n",
    "    plt.show()\n",
    "\n",
    "# Calling Scatter Plot Function to create a plot between age of customers & total price of their transactions:\n",
    "scatter_plot(df['Age'], df['Total Price'], title=\"Relationship between the Age of Customers and the Total Price of their transactions\", x_label=\"Age of Customer\", y_label=\"Total Price of Transaction\")\n"
   ]
  },
  {
   "cell_type": "code",
   "execution_count": null,
   "id": "b6cb1cff-2f2e-49fd-bd7e-0fd9967c307a",
   "metadata": {},
   "outputs": [],
   "source": [
    "#Creating a Function for Bar Chart\n",
    "def bar_chart(categories, values, title='Bar Chart', xlabel='Categories', ylabel='Values'):\n",
    "    \"\"\"\n",
    "    Returns a bar chart from a catergory & value in parameters, with customizable title & labels.\n",
    "    \"\"\"\n",
    "    plt.bar(categories, values, color='skyblue')\n",
    "    plt.title(title)\n",
    "    plt.xlabel(xlabel)\n",
    "    plt.ylabel(ylabel)\n",
    "    plt.xticks(rotation=45)\n",
    "    plt.tight_layout()  # Adjust layout to prevent clipping of tick-labels\n",
    "    plt.show()\n",
    "\n",
    "# Example usage\n",
    "bar_chart(df['Product Type'], df['Unit Price'], title='Total Sales Volume across different Product Types', xlabel='Product Type', ylabel=' Total Sales Volume')\n"
   ]
  },
  {
   "cell_type": "code",
   "execution_count": null,
   "id": "1135d1d9-5e0d-41c2-b178-7cc8a7283d00",
   "metadata": {},
   "outputs": [],
   "source": []
  }
 ],
 "metadata": {
  "kernelspec": {
   "display_name": "Python 3 (ipykernel)",
   "language": "python",
   "name": "python3"
  },
  "language_info": {
   "codemirror_mode": {
    "name": "ipython",
    "version": 3
   },
   "file_extension": ".py",
   "mimetype": "text/x-python",
   "name": "python",
   "nbconvert_exporter": "python",
   "pygments_lexer": "ipython3",
   "version": "3.12.4"
  }
 },
 "nbformat": 4,
 "nbformat_minor": 5
}
