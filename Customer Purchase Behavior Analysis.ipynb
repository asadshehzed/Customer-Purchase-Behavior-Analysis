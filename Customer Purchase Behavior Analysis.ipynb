{
 "cells": [
  {
   "cell_type": "code",
   "execution_count": 45,
   "id": "746ea4d1-03da-4dcd-a3bb-1817b7b3171d",
   "metadata": {},
   "outputs": [
    {
     "name": "stdout",
     "output_type": "stream",
     "text": [
      "<class 'pandas.core.frame.DataFrame'>\n",
      "RangeIndex: 20000 entries, 0 to 19999\n",
      "Data columns (total 16 columns):\n",
      " #   Column             Non-Null Count  Dtype  \n",
      "---  ------             --------------  -----  \n",
      " 0   Customer ID        20000 non-null  int64  \n",
      " 1   Age                20000 non-null  int64  \n",
      " 2   Gender             19999 non-null  object \n",
      " 3   Loyalty Member     20000 non-null  object \n",
      " 4   Product Type       20000 non-null  object \n",
      " 5   SKU                20000 non-null  object \n",
      " 6   Rating             20000 non-null  int64  \n",
      " 7   Order Status       20000 non-null  object \n",
      " 8   Payment Method     20000 non-null  object \n",
      " 9   Total Price        20000 non-null  float64\n",
      " 10  Unit Price         20000 non-null  float64\n",
      " 11  Quantity           20000 non-null  int64  \n",
      " 12  Purchase Date      20000 non-null  object \n",
      " 13  Shipping Type      20000 non-null  object \n",
      " 14  Add-ons Purchased  15132 non-null  object \n",
      " 15  Add-on Total       20000 non-null  float64\n",
      "dtypes: float64(3), int64(4), object(9)\n",
      "memory usage: 2.4+ MB\n"
     ]
    },
    {
     "data": {
      "text/html": [
       "<div>\n",
       "<style scoped>\n",
       "    .dataframe tbody tr th:only-of-type {\n",
       "        vertical-align: middle;\n",
       "    }\n",
       "\n",
       "    .dataframe tbody tr th {\n",
       "        vertical-align: top;\n",
       "    }\n",
       "\n",
       "    .dataframe thead th {\n",
       "        text-align: right;\n",
       "    }\n",
       "</style>\n",
       "<table border=\"1\" class=\"dataframe\">\n",
       "  <thead>\n",
       "    <tr style=\"text-align: right;\">\n",
       "      <th></th>\n",
       "      <th>Customer ID</th>\n",
       "      <th>Age</th>\n",
       "      <th>Rating</th>\n",
       "      <th>Total Price</th>\n",
       "      <th>Unit Price</th>\n",
       "      <th>Quantity</th>\n",
       "      <th>Add-on Total</th>\n",
       "    </tr>\n",
       "  </thead>\n",
       "  <tbody>\n",
       "    <tr>\n",
       "      <th>count</th>\n",
       "      <td>20000.000000</td>\n",
       "      <td>20000.000000</td>\n",
       "      <td>20000.000000</td>\n",
       "      <td>20000.000000</td>\n",
       "      <td>20000.000000</td>\n",
       "      <td>20000.000000</td>\n",
       "      <td>20000.000000</td>\n",
       "    </tr>\n",
       "    <tr>\n",
       "      <th>mean</th>\n",
       "      <td>10483.526550</td>\n",
       "      <td>48.994100</td>\n",
       "      <td>3.093950</td>\n",
       "      <td>3180.133419</td>\n",
       "      <td>578.631867</td>\n",
       "      <td>5.485550</td>\n",
       "      <td>62.244848</td>\n",
       "    </tr>\n",
       "    <tr>\n",
       "      <th>std</th>\n",
       "      <td>5631.732525</td>\n",
       "      <td>18.038745</td>\n",
       "      <td>1.223764</td>\n",
       "      <td>2544.978675</td>\n",
       "      <td>312.274076</td>\n",
       "      <td>2.870854</td>\n",
       "      <td>58.058431</td>\n",
       "    </tr>\n",
       "    <tr>\n",
       "      <th>min</th>\n",
       "      <td>1000.000000</td>\n",
       "      <td>18.000000</td>\n",
       "      <td>1.000000</td>\n",
       "      <td>20.750000</td>\n",
       "      <td>20.750000</td>\n",
       "      <td>1.000000</td>\n",
       "      <td>0.000000</td>\n",
       "    </tr>\n",
       "    <tr>\n",
       "      <th>25%</th>\n",
       "      <td>5478.000000</td>\n",
       "      <td>33.000000</td>\n",
       "      <td>2.000000</td>\n",
       "      <td>1139.680000</td>\n",
       "      <td>361.180000</td>\n",
       "      <td>3.000000</td>\n",
       "      <td>7.615000</td>\n",
       "    </tr>\n",
       "    <tr>\n",
       "      <th>50%</th>\n",
       "      <td>10499.500000</td>\n",
       "      <td>49.000000</td>\n",
       "      <td>3.000000</td>\n",
       "      <td>2534.490000</td>\n",
       "      <td>463.960000</td>\n",
       "      <td>5.000000</td>\n",
       "      <td>51.700000</td>\n",
       "    </tr>\n",
       "    <tr>\n",
       "      <th>75%</th>\n",
       "      <td>15504.000000</td>\n",
       "      <td>65.000000</td>\n",
       "      <td>4.000000</td>\n",
       "      <td>4639.600000</td>\n",
       "      <td>791.190000</td>\n",
       "      <td>8.000000</td>\n",
       "      <td>93.842500</td>\n",
       "    </tr>\n",
       "    <tr>\n",
       "      <th>max</th>\n",
       "      <td>19998.000000</td>\n",
       "      <td>80.000000</td>\n",
       "      <td>5.000000</td>\n",
       "      <td>11396.800000</td>\n",
       "      <td>1139.680000</td>\n",
       "      <td>10.000000</td>\n",
       "      <td>292.770000</td>\n",
       "    </tr>\n",
       "  </tbody>\n",
       "</table>\n",
       "</div>"
      ],
      "text/plain": [
       "        Customer ID           Age        Rating   Total Price    Unit Price  \\\n",
       "count  20000.000000  20000.000000  20000.000000  20000.000000  20000.000000   \n",
       "mean   10483.526550     48.994100      3.093950   3180.133419    578.631867   \n",
       "std     5631.732525     18.038745      1.223764   2544.978675    312.274076   \n",
       "min     1000.000000     18.000000      1.000000     20.750000     20.750000   \n",
       "25%     5478.000000     33.000000      2.000000   1139.680000    361.180000   \n",
       "50%    10499.500000     49.000000      3.000000   2534.490000    463.960000   \n",
       "75%    15504.000000     65.000000      4.000000   4639.600000    791.190000   \n",
       "max    19998.000000     80.000000      5.000000  11396.800000   1139.680000   \n",
       "\n",
       "           Quantity  Add-on Total  \n",
       "count  20000.000000  20000.000000  \n",
       "mean       5.485550     62.244848  \n",
       "std        2.870854     58.058431  \n",
       "min        1.000000      0.000000  \n",
       "25%        3.000000      7.615000  \n",
       "50%        5.000000     51.700000  \n",
       "75%        8.000000     93.842500  \n",
       "max       10.000000    292.770000  "
      ]
     },
     "execution_count": 45,
     "metadata": {},
     "output_type": "execute_result"
    }
   ],
   "source": [
    "#importing libraries\n",
    "import numpy as np\n",
    "import pandas as pd\n",
    "import matplotlib.pyplot as plt\n",
    "#reading dataset\n",
    "df=pd.read_csv(r\"C:\\Users\\Asad Shahzad\\Desktop\\Assignment\\Statistics-and-Trends-Assignment---Applied-Data-Science-1\\Electronic_sales_Sep2023-Sep2024.csv\")\n",
    "\n",
    "#previewing data\n",
    "df.info()\n",
    "df.describe()"
   ]
  },
  {
   "cell_type": "code",
   "execution_count": 63,
   "id": "a65ed951-e3cd-4d51-8510-f5175e8ed32a",
   "metadata": {},
   "outputs": [
    {
     "name": "stdout",
     "output_type": "stream",
     "text": [
      "Total number of distinct values: 12136\n"
     ]
    }
   ],
   "source": [
    "# Checking total number of customers\n",
    "distinct_count = df['Customer ID'].nunique()\n",
    "print(\"Total number of distinct values:\", distinct_count)"
   ]
  },
  {
   "cell_type": "code",
   "execution_count": 23,
   "id": "28774ad4-85eb-43af-9d27-dbdbb78fd0d6",
   "metadata": {},
   "outputs": [
    {
     "data": {
      "text/plain": [
       "Customer ID             0\n",
       "Age                     0\n",
       "Gender                  1\n",
       "Loyalty Member          0\n",
       "Product Type            0\n",
       "SKU                     0\n",
       "Rating                  0\n",
       "Order Status            0\n",
       "Payment Method          0\n",
       "Total Price             0\n",
       "Unit Price              0\n",
       "Quantity                0\n",
       "Purchase Date           0\n",
       "Shipping Type           0\n",
       "Add-ons Purchased    4868\n",
       "Add-on Total            0\n",
       "dtype: int64"
      ]
     },
     "execution_count": 23,
     "metadata": {},
     "output_type": "execute_result"
    }
   ],
   "source": [
    "#checking for missing values\n",
    "df.isnull().sum()"
   ]
  },
  {
   "cell_type": "code",
   "execution_count": 55,
   "id": "7dcaef14-628d-4906-b268-6c2eae6eb3e9",
   "metadata": {},
   "outputs": [
    {
     "data": {
      "text/plain": [
       "Customer ID             0\n",
       "Age                     0\n",
       "Gender                  0\n",
       "Loyalty Member          0\n",
       "Product Type            0\n",
       "SKU                     0\n",
       "Rating                  0\n",
       "Order Status            0\n",
       "Payment Method          0\n",
       "Total Price             0\n",
       "Unit Price              0\n",
       "Quantity                0\n",
       "Purchase Date           0\n",
       "Shipping Type           0\n",
       "Add-ons Purchased    4868\n",
       "Add-on Total            0\n",
       "dtype: int64"
      ]
     },
     "execution_count": 55,
     "metadata": {},
     "output_type": "execute_result"
    }
   ],
   "source": [
    "#filling the 1 missing gender value with the mode for Genders\n",
    "df['Gender'] = df['Gender'].fillna(df['Gender'].mode()[0])\n",
    "df.isnull().sum()"
   ]
  },
  {
   "cell_type": "code",
   "execution_count": 59,
   "id": "37e7b0cc-61a6-4d13-b5f5-6df8337315ff",
   "metadata": {},
   "outputs": [
    {
     "name": "stdout",
     "output_type": "stream",
     "text": [
      "Total number of distinct values: 12136\n"
     ]
    }
   ],
   "source": []
  },
  {
   "cell_type": "code",
   "execution_count": null,
   "id": "b6cb1cff-2f2e-49fd-bd7e-0fd9967c307a",
   "metadata": {},
   "outputs": [],
   "source": []
  }
 ],
 "metadata": {
  "kernelspec": {
   "display_name": "Python 3 (ipykernel)",
   "language": "python",
   "name": "python3"
  },
  "language_info": {
   "codemirror_mode": {
    "name": "ipython",
    "version": 3
   },
   "file_extension": ".py",
   "mimetype": "text/x-python",
   "name": "python",
   "nbconvert_exporter": "python",
   "pygments_lexer": "ipython3",
   "version": "3.12.4"
  }
 },
 "nbformat": 4,
 "nbformat_minor": 5
}
